{
 "cells": [
  {
   "cell_type": "code",
   "execution_count": 15,
   "metadata": {},
   "outputs": [
    {
     "data": {
      "text/plain": [
       "True"
      ]
     },
     "execution_count": 15,
     "metadata": {},
     "output_type": "execute_result"
    }
   ],
   "source": [
    "import langchain\n",
    "import os\n",
    "from langchain_community.document_loaders import PyPDFLoader\n",
    "from langchain_community.vectorstores import FAISS, pinecone\n",
    "from langchain_core.prompts import ChatPromptTemplate\n",
    "from langchain_core.output_parsers import StrOutputParser\n",
    "from langchain_core.runnables import RunnablePassthrough\n",
    "from langchain_google_genai import ChatGoogleGenerativeAI, GoogleGenerativeAIEmbeddings\n",
    "from dotenv import load_dotenv\n",
    "from tqdm.autonotebook import tqdm\n",
    "from langchain_text_splitters import RecursiveCharacterTextSplitter\n",
    "\n",
    "load_dotenv()"
   ]
  },
  {
   "cell_type": "code",
   "execution_count": 21,
   "metadata": {},
   "outputs": [
    {
     "data": {
      "text/plain": [
       "ChatGoogleGenerativeAI(model='models/gemini-pro', google_api_key=SecretStr('**********'), client=<google.ai.generativelanguage_v1beta.services.generative_service.client.GenerativeServiceClient object at 0x729b75b7d6c0>, async_client=<google.ai.generativelanguage_v1beta.services.generative_service.async_client.GenerativeServiceAsyncClient object at 0x729b75b7e9b0>, default_metadata=())"
      ]
     },
     "execution_count": 21,
     "metadata": {},
     "output_type": "execute_result"
    }
   ],
   "source": [
    "llm_gemini = ChatGoogleGenerativeAI(\n",
    "    model=\"gemini-pro\", google_api_key=os.getenv(\"GOOGLE_API_KEY\")\n",
    ")\n",
    "\n",
    "llm_gemini"
   ]
  },
  {
   "cell_type": "code",
   "execution_count": null,
   "metadata": {},
   "outputs": [],
   "source": [
    "pdf_pages = []\n",
    "docs_path = \"pdfs/PMB271\"\n",
    "\n",
    "for file in tqdm(os.listdir(docs_path)):\n",
    "    file_path = os.path.join(docs_path, file)\n",
    "    pdf_loader = PyPDFLoader(file_path, extract_images=True)\n",
    "    pdf_pages += pdf_loader.load_and_split()\n",
    "\n",
    "faiss_index = FAISS.from_documents(pdf_pages, GoogleGenerativeAIEmbeddings())"
   ]
  },
  {
   "cell_type": "code",
   "execution_count": null,
   "metadata": {},
   "outputs": [],
   "source": [
    "print(len(pdf_pages))"
   ]
  },
  {
   "cell_type": "code",
   "execution_count": 9,
   "metadata": {},
   "outputs": [
    {
     "data": {
      "text/plain": [
       "Document(page_content=\"HISTORICAL DEVELOPMENT OF MICROBIOLOGY AND THE EFFECTS ON HEALTH  \\nA Brief History of Microbiology . Microbiology has had a long, rich history, initially centered in the causes of \\ninfectious diseases but now including practical applications of the science. Many individuals have made significant \\ncontributions to the development of microbiology.  \\nEarly history of microbiology.  Historians are unsure who made the first observations of microorganisms, but the \\nmicroscope was available during the mid‐1600s, and an E nglish scientist named  Robert Hooke  made key \\nobservations. He is reputed to have observed strands of fungi among the specimens of cells he viewed. In the 1670s \\nand the decades thereafter, a Dutch merchant named  Anton van Leeuwenhoek  made careful observatio ns of \\nmicroscopic organisms, which he called  animalcules.  Until his death in 1723, van Leeuwenhoek revealed the \\nmicroscopic world to scientists of the day and is regarded as one of the first to provide accurate descriptions of \\nprotozoa, fungi, and bacteria . \\nAfter van Leeuwenhoek died, the study of microbiology did not develop rapidly because microscopes were rare and \\nthe interest in microorganisms was not high. In those years, scientists debated the theory of  spontaneous generation , \\nwhich stated that microo rganisms arise from lifeless matter such as beef broth. This theory was disputed by  Francesco \\nRedi , who showed that fly maggots do not arise from decaying meat (as others believed) if the meat is covered to \\nprevent the entry of flies. An English cleric nam ed John Needham  advanced spontaneous generation, but  Lazzaro \\nSpallanzani  disputed the theory by showing that boiled broth would not give rise to microscopic forms of life.  \\nLouis Pasteur and the germ theory. Louis Pasteur  worked in the middle and late 1800s . He performed numerous \\nexperiments to discover why wine and dairy products became sour, and he found that bacteria were to blame. Pasteur \\ncalled attention to the importance of microorganisms in everyday life and stirred scientists to think that if bacteri a \\ncould make the wine “sick,” then perhaps they could cause human illness.  \\nPasteur had to disprove spontaneous generation to sustain his theory, and he therefore devised a series of  swan‐necked \\nflasks  filled with broth. He left the flasks of broth open to the air, but the flasks had a curve in the neck so that \\nmicroorganisms would fall into the neck, not the broth. The flasks did not become contaminated (as he predicted they \\nwould not), and Pasteur's experiments put to rest the notion of spontaneous generat ion. His work also encouraged the \\nbelief that microorganisms were in the air and could cause disease. Pasteur postulated the  germ theory of disease , \\nwhich states that microorganisms are the causes of infectious disease.  \\nPasteur's attempts to prove the germ  theory were unsuccessful. However, the German scientist  Robert Koch  provided \\nthe proof by cultivating anthrax bacteria apart from any other type of organism. He then injected pure cultures of the \\nbacilli into mice and showed that the bacilli invariably ca used anthrax. The procedures used by Koch came to be \\nknown as  Koch's postulates  (Figure  ). They provided a set of principles whereby other microorganisms could be \\nrelated to other diseases.  \\nThe development of microbiology.  In the late 1800s and for the fir st decade of the 1900s, scientists seized the \\nopportunity to further develop the germ theory of disease as enunciated by Pasteur and proved by Koch. There emerged \\na Golden Age of Microbiology  during which many agents of different infectious diseases were identified. Many of \\nthe etiologic agents of microbial disease were discovered during that period, leading to the ability to halt epidemics \\nby interrupting the spread of microorganisms.  \\nDespite the advances in microbiology, it was rarely possible to render life‐saving therapy to an infected patient. Then,\", metadata={'source': 'pdfs/PMB271/PMB 271-A Brief History Of Microbiology.pdf', 'page': 0})"
      ]
     },
     "execution_count": 9,
     "metadata": {},
     "output_type": "execute_result"
    }
   ],
   "source": [
    "pdf_file = \"pdfs/PMB271/PMB 271-A Brief History Of Microbiology.pdf\"\n",
    "\n",
    "pdf_loader = PyPDFLoader(pdf_file, extract_images=True)\n",
    "pages = pdf_loader.load_and_split()\n",
    "\n",
    "pages[0]\n"
   ]
  },
  {
   "cell_type": "code",
   "execution_count": 13,
   "metadata": {},
   "outputs": [],
   "source": [
    "text_splitter = RecursiveCharacterTextSplitter(\n",
    "    chunk_size=1000,\n",
    "    chunk_overlap=20,\n",
    "    length_function=len,\n",
    "    is_separator_regex=False,\n",
    ")\n",
    "\n",
    "faiss_index_db = FAISS.from_documents(\n",
    "    pdf_pages, GoogleGenerativeAIEmbeddings(model=\"models/embedding-001\")\n",
    ")"
   ]
  },
  {
   "cell_type": "code",
   "execution_count": 14,
   "metadata": {},
   "outputs": [
    {
     "data": {
      "text/plain": [
       "[Document(page_content='Martinus Beijerinck (1851 - 1931) developed an elective medium (one which\\nuses nutritional requirements to limit what can grow on a plate). Beijerinck\\nwanted to isolate the root nodule bacterium Rhizobium, which is capable of\\nfixing atmospheric nitrogen. To do this he designed a medium containing no\\nnitrogenous  compounds.  This  inhibited  the  growth  of  non-nitrogen  fixing\\nmicroorganisms and produced a pure culture of Rhizobium. Beijerinck went on\\nto use another elective medium, based on the ability of certain microorganisms\\nto use CO2 as a carbon source under anaerobic conditions, to isolate the first\\npure culture of sulphur-oxidizing bacterium Thiobacillus denitrificans in 1904. \\nAlthough chemicals, such as dyes, had been known to have antimicrobial\\neffects since 1885, (when Paul Ehrlich published work on the inhibitory effect\\nof  arsenic  compounds  on  syphilis)  they  were  not  incorporated  into  media\\nformulations until the first selective media were developed in the 1900s. Early\\nselective agents tended to be chemicals and dyes used for other purposes within\\nthe laboratory that were found, by chance, to have the ability to inhibit certain\\nmicroorganisms. Some of the most important developments included: \\n(a)1905: Alfred MacConkey, used bile salts to select for lactose fermenting\\nbacteria in faecal samples.  The level of conjugation in the  bile  salts\\ndetermines its selectivity profile: conjugated bile salts are less inhibitory\\nand  allow  the  growth  of  Staphylococci  and  Enterococci;  while  more\\ndisassociated salts such as desoxycholate are much more selective, only\\nallowing growth of Enterobacteriacae. \\n(b)1912: Churchman showed that derivatives of triphenylmethane such as\\ngentian  violet  and  brilliant  green  dyes  were  inhibitory  to  bacteria,\\nparticularly Gram positives; and crystal violet causes some inhibition of\\nfungi. \\n(c)1923: Muller described a medium using iodine and sodium thiosulphate\\nwhich react together to form tetrathionate. The selectivity of tetrathionate\\ndepends  on  whether  or  not  an  organism  possesses  the  enzyme\\ntetrathionase. Salmonellae and Proteus species possess the enzyme, so\\ncan grow in the presence of tetrathionate. \\nAnother important development was the addition of antibiotics to media. It\\nwas in the 1960s that antibiotics were used in culture media, for the first time,\\nas  selective  agents.  For  example,  Thayer-Martin  produced  in  1964,  a\\nformulation for the isolation of  Neisseria gonorrhoeae  and  N. meningitides ,\\nusing a mixture of vancomycin, colistin and trimethoprim. This was one of the\\nmost widely documented early examples of antibiotics being used in a selective\\nmedium. In parallel with the development of selective media, diagnostic media\\nwas produced in the early 20th Century. The main driver for this was theAccelerated\\nLogarithmic\\n个Decelerated\\nAccelerated\\n↑Logarithmic\\nStationary\\nGrowth\\nGrowth\\nGrowth\\nDeath\\nLDeath\\nSurvival\\nLag\\nNumber of Microorganisms (log)\\nTime', metadata={'source': 'pdfs/PMB271/PMB 271-Nutritional Requirements And Growth Of Bacteria 1.pdf', 'page': 28}),\n",
       " Document(page_content=\"19th Century was a pharmaceutical product prescribed for nutritional disorders.\\nThis peptone added amino-nitrogen, while the salt raised the osmolarity of the\\nmedium.\\nFrom laboratory to mass production \\nBy  the  1890s  culture  media  had  developed  to  form  familiar  to\\nmicrobiologist of the 21st Century: clearer broths; solid media in Petri dishes;\\nand the widespread use of peptones and agar. For example, Loeffler made a\\nsignificant advance by developing nutrient broth to cultivate Corynebacterium\\ndiphtheria.  The formulation of the nutrient broth is still widely used today\\n(Loeffler's Medium). It became increasingly apparent that there was a gap in\\nmarket  place  for  mass  produced  culture  media.  The  development  of\\ncommercially  produced  culture  media  originated  with  the  meat  industry,\\nwhereby hitherto discarded by-products from the manufacture of meat products\\nwere used to produce culture media. The most prominent example of this was\\nthe German Baron Justus von Liebig who, in the 1865 established a company -\\nthe Liebig Extract of Meat Company (LEMCO) to manufacture and sell Liebig's\\nextract of meat. \\nLiebig developed his meat extract as a food source. His initial motivation\\nwas  to  provide  food  source,  stable  at  room  temperature,  for  the  growing\\nmalnourished  poor people in central Europe. This became  company’s most\\nfamous product: the Oxo cube. It was only later that a use for the waste product\\nfrom the manufacture of Oxo cubes was found: to manufacture microbiological\\nculture media. By 1924, the products of OXO Medical Division of LEMCO\\nwere sold to hospitals and laboratories. \\nThe driving force for the large scale production of microbiological media\\nand so many scientific innovations in the UK was World War II. Oxo Limited\\nbecame the main provider of microbiological culture media to UK the Public\\nHealth Laboratory Service. The ability of Oxo to provide media on a large scale\\nwas  accelerated  by  the  development  of  dehydrated  culture  media,  whereby\\nmedia was preserved for long periods by removing water. Low amounts of\\nwater resulted in the media powder having a low water activity which reduced\\nthe possibility of spoilage occurring. In the USA, similar movements towards\\nmass production occurred during the war undertaken by the American Agar\\nCompany of San Diego, California and by the Digestive Ferments Company\\n(Difco).\\nThe Twentieth Century: further advances \\nAt the start of the 20th Century, further advances in culture media and\\npure  culture  technique  occurred.  Most  of  the  media  used  during  the  19th\\nCentury was non-selective and was designed to grow a range of bacteria. The\\nfirst  step  towards  diagnostic  media  production  took  place  in  1888  whenAccelerated\\nLogarithmic\\n个Decelerated\\nAccelerated\\n↑Logarithmic\\nStationary\\nGrowth\\nGrowth\\nGrowth\\nDeath\\nLDeath\\nSurvival\\nLag\\nNumber of Microorganisms (log)\\nTime\", metadata={'source': 'pdfs/PMB271/PMB 271-Nutritional Requirements And Growth Of Bacteria 1.pdf', 'page': 27}),\n",
       " Document(page_content=\"common  bacteria,  mesophilic  organisms  like  those  of  the  genera\\nStaphylococcus, have an optimal growth range of 30-35o C). The temperature\\nsensitivity also caused the medium to melt in the summer months.  It was\\nhydrolysed  by  gelitinase  –  an  enzyme  produced  by  most  proteolytic\\nmicroorganisms  into  various  sub-compounds  (polypeptides,  peptides,  and\\namino acids) rendering the medium useless.  A year later, Koch’s attempts at a\\nnutrient medium were advanced. \\nIn 1882 Fannie Hesse (1850-1934), the wife of Dr. Walther Hesse (1846-1911)\\n(who was Koch’s research assistant), suggested replacing gelatin with agar.\\nFannie Hesse had been inspired by the use of agar to prepare fruit jams and\\njellies.\\nAgar (or ‘agar-agar’) is a water soluble polysaccharide derived from red-\\npurple  seaweeds  (belonging  to  the  genus  Gelidium  and  Gracilaria).  Agar\\nproved to be a superior gelling agent. Agar has physical properties which could\\nbe readily adapted for bacteriology. Agar melts when heated to around 85o C,\\nand yet when cooled it does not form a gel until it reaches 34-42o C (a physical\\nproperty  called  hysteresis).  Agar  is  also  clearer  than  gelatin  and  it  resists\\ndigestion by bacterial enzymes. The use of agar allows the creation of a medium\\nthat can be inoculated at 40o  C in its cooled molten state and yet incubated up\\n60o  C  without  melting  (a  useful  characteristic  when  examining  for\\nthermophiles).  Typically,  a  1-12%  final  concentration  of  agar  is  used  for\\nsolidifying culture media. \\nThe ability to grow bacteria on solid media was to prove a major milestone in\\nthe development of bacteriology. The formation of bacteria on solid media led\\nKoch to use the word ' colony' to describe the pure and discrete growth. \\nA further important development for the manufacture of solid media in\\nthe development of pure culture occurred in 1887 when Julius Richard Petri\\n(1852-1921), a worker in Koch's laboratory, produced a new type of culture dish\\nfor media. This was the Petri dish. The key design feature of Petri dish was the\\nuse of an overhanging lid, which was in place to keep contaminants out from\\nmedium inside. Petri dish is still very important in microbiology till date. \\nFor many years glass dishes were used, mainly until the mid 1960s, where\\nadvances  with  injection  molding  technology  lead  to  Petri  dishes  being\\nmanufactured out of clear polystyrene plastic. These dishes were very similar to\\nthe first, glass Petri dishes.  \\nAgar provides the structure for solid microbiological media but it does\\nnot provide the nutrients necessary for bacteria to grow.  In 1884 Fredrick\\nLoeffler added peptone and salt to Koch’s basic meat extract formulation which\\nwas insufficient in amino-nitrogen to allow optimal growth of a range micro-\\norganisms. The peptone he used was an enzymatic digest of meat which in theAccelerated\\nLogarithmic\\n个Decelerated\\nAccelerated\\n↑Logarithmic\\nStationary\\nGrowth\\nGrowth\\nGrowth\\nDeath\\nLDeath\\nSurvival\\nLag\\nNumber of Microorganisms (log)\\nTime\", metadata={'source': 'pdfs/PMB271/PMB 271-Nutritional Requirements And Growth Of Bacteria 1.pdf', 'page': 26}),\n",
       " Document(page_content=\"diagnostic importance of haemolytic reactions. In 1919 James Brown used a\\nblood agar to study the haemolysis reactions of the genus  Streptococcus  and\\nfrom this he was able to differentiate alpha, beta and gamma haemolysis, an\\nimportant  step  for  differentiating  and  identifying  different  species  of\\nStaphylococcus in medical diagnosis. \\nContinuing developments \\nThe discovery of new microorganisms presents new challenges and this\\nrequires new isolation methods. For example, in 1977 Joseph  McDade and\\nCharles C. Shepard identified Legionella pneumophilia as the pathogen which\\ncaused Legionnaires disease which required the development of new media both\\nfor clinical and water testing applications. Other notable developments include a\\nspecial  medium  for  recovering  bacteria  from  water  systems  (Reasoner  and\\nGeldrich's R2A agar). In addition, in 1983 Barry Marshall demonstrated that\\nisolates from gastric and duodenal ulcers all contained a  Campylobacter-like\\norganism  later  called  Helicobacter  pylori .  More  recently,  in  2002  the  first\\nVancomycin Resistant Staphylococcus aureus (VRSA) were found in Michigan\\nand Pennsylvania, in the USA, which led to the development of differential\\nmedia for VRSA. With another more recently identified bacterium a special\\nchromogenic media was developed to specifically detect the emerging pathogen\\nEnterobacter sakazakii from infant formula milk.\\nSpecialist media like chromogenic media represents another relatively\\nrecent development. Chromogens are molecules designed to mimic metabolic\\nsubstrates which are colourless until they are cleaved by the target enzyme.\\nOnce cleaved the molecule becomes both insoluble and coloured, and so builds\\nup within the cell. This means that colonies of an organism which possess the\\nenzyme can be easily differentiated from those that do not. By designing a\\nselective  base  medium  and  adding  chromogenic  substrates,  media  can  be\\ndesigned that allow differentiation and identification of groups of organisms. A\\nlarge number of chromogenic media are now available for organisms as wide\\nranging as E. coli and coliforms, Salmonella, Listeria monocytogenes , urinary\\ntract pathogens, Clostridium perfringens , and Candida species. \\nMedia manufacture in the Twenty-First Century displays continuities and\\nsimilarities with the pioneering manufacturers of the past. The main ‘active’\\ningredient of culture media remains peptones. Today peptones are still largely\\nmanufactured from meat (such as liver, heart and veal); but also from milk and\\nvegetable sources (of which pea sources are the most common). Peptones are\\nhydrolysed using either acid or enzymes. \\nFor  solid  media,  agar  continues  to  be  produced  from  seaweed.\\nDevelopments  in  processing  techniques  allow  agars  with  different\\ncharacteristics  to  be  produced.  For  example,  agars  with  a  low  or  highAccelerated\\nLogarithmic\\n个Decelerated\\nAccelerated\\n↑Logarithmic\\nStationary\\nGrowth\\nGrowth\\nGrowth\\nDeath\\nLDeath\\nSurvival\\nLag\\nNumber of Microorganisms (log)\\nTime\", metadata={'source': 'pdfs/PMB271/PMB 271-Nutritional Requirements And Growth Of Bacteria 1.pdf', 'page': 29})]"
      ]
     },
     "execution_count": 14,
     "metadata": {},
     "output_type": "execute_result"
    }
   ],
   "source": [
    "retreiver = faiss_index_db.as_retriever()\n",
    "\n",
    "retreiver.invoke('Who is the dutch merchannt?')"
   ]
  },
  {
   "cell_type": "code",
   "execution_count": 22,
   "metadata": {},
   "outputs": [],
   "source": [
    "prompt = ChatPromptTemplate.from_template(\n",
    "\"\"\"Answer the question based only on the following context:\n",
    "\n",
    "{context}\n",
    "\n",
    "Question: {question}\n",
    "\"\"\"\n",
    ")\n",
    "\n",
    "chain = (\n",
    "    {\"context\": retreiver, \"question\": RunnablePassthrough()}\n",
    "    | prompt\n",
    "    | llm_gemini\n",
    "    | StrOutputParser()\n",
    ")"
   ]
  },
  {
   "cell_type": "code",
   "execution_count": 23,
   "metadata": {},
   "outputs": [
    {
     "data": {
      "text/plain": [
       "langchain_google_genai.chat_models.ChatGoogleGenerativeAI"
      ]
     },
     "execution_count": 23,
     "metadata": {},
     "output_type": "execute_result"
    }
   ],
   "source": [
    "ChatGoogleGenerativeAI\n"
   ]
  },
  {
   "cell_type": "code",
   "execution_count": 26,
   "metadata": {},
   "outputs": [
    {
     "data": {
      "text/plain": [
       "'Martinus Beijerinck isolated the first pure culture of sulphur-oxidizing bacterium Thiobacillus denitrificans in 1904.'"
      ]
     },
     "execution_count": 26,
     "metadata": {},
     "output_type": "execute_result"
    }
   ],
   "source": [
    "chain.invoke(\"Who isolated the first pure culture of sulphur-oxidizing bacterium and in what year?\")"
   ]
  }
 ],
 "metadata": {
  "kernelspec": {
   "display_name": ".pharmassist_env",
   "language": "python",
   "name": "python3"
  },
  "language_info": {
   "codemirror_mode": {
    "name": "ipython",
    "version": 3
   },
   "file_extension": ".py",
   "mimetype": "text/x-python",
   "name": "python",
   "nbconvert_exporter": "python",
   "pygments_lexer": "ipython3",
   "version": "3.10.12"
  }
 },
 "nbformat": 4,
 "nbformat_minor": 2
}
